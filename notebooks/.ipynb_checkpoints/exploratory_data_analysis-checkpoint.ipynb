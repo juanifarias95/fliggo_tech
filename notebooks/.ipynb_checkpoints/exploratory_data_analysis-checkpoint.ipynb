{
 "cells": [
  {
   "cell_type": "markdown",
   "metadata": {},
   "source": [
    "- **Import Libraries**"
   ]
  },
  {
   "cell_type": "code",
   "execution_count": null,
   "metadata": {},
   "outputs": [],
   "source": [
    "import numpy as np\n",
    "import pandas as pd\n",
    "import matplotlib.pyplot as plt\n",
    "import seaborn as sns; sns.set()\n",
    "import plotly.express as px\n",
    "\n",
    "import warnings\n",
    "warnings.simplefilter('ignore')"
   ]
  },
  {
   "cell_type": "markdown",
   "metadata": {},
   "source": [
    "## - **Data QA**"
   ]
  },
  {
   "cell_type": "code",
   "execution_count": null,
   "metadata": {},
   "outputs": [],
   "source": [
    "df_credit = pd.read_csv(\"https://s3-us-west-2.amazonaws.com/fligoo.data-science/TechInterviews/CreditEDA/data/credit-data.csv\")\n",
    "df_credit.head(3)"
   ]
  },
  {
   "cell_type": "code",
   "execution_count": null,
   "metadata": {},
   "outputs": [],
   "source": [
    "df_credit.shape"
   ]
  },
  {
   "cell_type": "markdown",
   "metadata": {},
   "source": [
    "- We can see we have a lot of data and 12 posible features for future ML models"
   ]
  },
  {
   "cell_type": "code",
   "execution_count": null,
   "metadata": {},
   "outputs": [],
   "source": [
    "df_credit.info()"
   ]
  },
  {
   "cell_type": "markdown",
   "metadata": {},
   "source": [
    "- Each Column seems to have enought values, so is't much probably when don't have to leave considering any column, we'll take all of them into account\n",
    "- We can see that all dataset has only numerical values\n",
    "- Here, we can see that there is a column with unknown name **\"unnamed: 0\"** but it represents the Id Borrower\n"
   ]
  },
  {
   "cell_type": "code",
   "execution_count": null,
   "metadata": {},
   "outputs": [],
   "source": [
    "df_credit = df_credit.rename(columns={\"unnamed: 0\": \"id\"})\n",
    "df_credit.head(3)"
   ]
  },
  {
   "cell_type": "code",
   "execution_count": null,
   "metadata": {},
   "outputs": [],
   "source": [
    "df_credit.describe()"
   ]
  },
  {
   "cell_type": "markdown",
   "metadata": {},
   "source": [
    "- Now let's change some columns names\n",
    "- Take a look a the maximun values. Some of them seem to be much larger than their 75% value, so it can be taken as an outlier later"
   ]
  },
  {
   "cell_type": "code",
   "execution_count": null,
   "metadata": {},
   "outputs": [],
   "source": [
    "df_credit.columns"
   ]
  },
  {
   "cell_type": "code",
   "execution_count": null,
   "metadata": {},
   "outputs": [],
   "source": [
    "df_credit = df_credit.rename(columns=({\"serious_dlqin2yrs\": \"person_90_days_past\",\n",
    "                         \"number_of_time30-59_days_past_due_not_worse\": \"num_times_30-59_days_past_not_worse\",\n",
    "                         \"number_of_time60-89_days_past_due_not_worse\": \"num_times_60-89_days_past_not_worse\"}))"
   ]
  },
  {
   "cell_type": "code",
   "execution_count": null,
   "metadata": {},
   "outputs": [],
   "source": [
    "df_credit.columns"
   ]
  },
  {
   "cell_type": "markdown",
   "metadata": {},
   "source": [
    "#### - Handling Missing Values"
   ]
  },
  {
   "cell_type": "code",
   "execution_count": null,
   "metadata": {},
   "outputs": [],
   "source": [
    "df_credit.isnull().sum()"
   ]
  },
  {
   "cell_type": "markdown",
   "metadata": {},
   "source": [
    "- We can see that any column has null values except one **montly_income**\n",
    "- There are several ways to treat these values. The way we are going to use is fill those nan values with the median (in case we have outliers)"
   ]
  },
  {
   "cell_type": "code",
   "execution_count": null,
   "metadata": {},
   "outputs": [],
   "source": [
    "median_monthly_income = np.nanmedian(df_credit[\"monthly_income\"].values)\n",
    "df_credit[\"monthly_income\"] = df_credit[\"monthly_income\"].replace(np.nan, median_monthly_income)\n",
    "print(f\"Number of missing Values = {df_credit['monthly_income'].isnull().sum()}\")"
   ]
  },
  {
   "cell_type": "code",
   "execution_count": null,
   "metadata": {},
   "outputs": [],
   "source": [
    "df_credit.isnull().sum()"
   ]
  },
  {
   "cell_type": "markdown",
   "metadata": {},
   "source": [
    "- Note: One better posible approach would be to take the monthly income based on differents groups considering the Age and other relevant features, calculate the median for each \n",
    "group and finally assign it to that person from the corresponding group"
   ]
  },
  {
   "cell_type": "markdown",
   "metadata": {},
   "source": [
    "#### - Duplicated Values"
   ]
  },
  {
   "cell_type": "code",
   "execution_count": null,
   "metadata": {},
   "outputs": [],
   "source": [
    "print(f\"Number of Duplicated values = {df_credit.duplicated().sum()}\")"
   ]
  },
  {
   "cell_type": "markdown",
   "metadata": {},
   "source": [
    "#### - Handling Outliers"
   ]
  },
  {
   "cell_type": "code",
   "execution_count": null,
   "metadata": {},
   "outputs": [],
   "source": [
    "df_credit.describe()"
   ]
  },
  {
   "cell_type": "code",
   "execution_count": null,
   "metadata": {},
   "outputs": [],
   "source": [
    "def barplot_count(serie, col_name, fig_size=(12, 4)):\n",
    "    fig_dims = fig_size\n",
    "    fig, ax = plt.subplots(figsize=fig_dims)\n",
    "    g = sns.barplot(serie.index, serie.values, alpha=0.8, ax=ax)\n",
    "    plt.ylabel('Number of Occurrences', fontsize=12)\n",
    "    plt.xlabel(col_name, fontsize=12)    "
   ]
  },
  {
   "cell_type": "code",
   "execution_count": null,
   "metadata": {},
   "outputs": [],
   "source": [
    "sns.distplot(df_credit[\"monthly_income\"], bins=12, kde=False, rug=False);"
   ]
  },
  {
   "cell_type": "code",
   "execution_count": null,
   "metadata": {},
   "outputs": [],
   "source": [
    "df_credit = df_credit[df_credit[\"monthly_income\"] > 0]"
   ]
  },
  {
   "cell_type": "markdown",
   "metadata": {},
   "source": [
    "- Let's remove outliers from **monthly_income**"
   ]
  },
  {
   "cell_type": "code",
   "execution_count": null,
   "metadata": {},
   "outputs": [],
   "source": [
    "def get_outliers_threshold(col_df):\n",
    "    q1, q3 = col_df.quantile([0.25,0.75])\n",
    "    iqr = q3 - q1\n",
    "    lower_range = q1 - (iqr * 1.5)\n",
    "    upper_range = q3 + (iqr * 1.5)\n",
    "    lower_range, upper_range\n",
    "    \n",
    "    return lower_range, upper_range"
   ]
  },
  {
   "cell_type": "code",
   "execution_count": null,
   "metadata": {},
   "outputs": [],
   "source": [
    "lower, upper = get_outliers_threshold(df_credit[\"monthly_income\"])\n",
    "df_credit[\"monthly_income\"] = df_credit[\"monthly_income\"].where(df_credit[\"monthly_income\"] <= upper, upper)\n",
    "df_credit[\"monthly_income\"] = df_credit[\"monthly_income\"].where(df_credit[\"monthly_income\"] >= lower, lower)"
   ]
  },
  {
   "cell_type": "code",
   "execution_count": null,
   "metadata": {},
   "outputs": [],
   "source": [
    "sns.distplot(df_credit[\"monthly_income\"], bins=12, kde=False, rug=False);"
   ]
  },
  {
   "cell_type": "markdown",
   "metadata": {},
   "source": [
    "- The most people has a monthly income smaller than $12000"
   ]
  },
  {
   "cell_type": "markdown",
   "metadata": {},
   "source": [
    "#### revolving_utilization_of_unsecured_lines"
   ]
  },
  {
   "cell_type": "code",
   "execution_count": null,
   "metadata": {},
   "outputs": [],
   "source": [
    "col_name = \"revolving_utilization_of_unsecured_lines\"\n",
    "df_credit = df_credit[df_credit[col_name] <= 1]\n",
    "sns.distplot(df_credit[col_name], bins=12, kde=False, rug=False);"
   ]
  },
  {
   "cell_type": "markdown",
   "metadata": {},
   "source": [
    "- The values of revolving utilization range in [0,1], so values higher than 1 and lower than 0 will be considered as outliers"
   ]
  },
  {
   "cell_type": "markdown",
   "metadata": {},
   "source": [
    "#### num_times_30-59_days_past_not_worse"
   ]
  },
  {
   "cell_type": "code",
   "execution_count": null,
   "metadata": {},
   "outputs": [],
   "source": [
    "col = \"num_times_30-59_days_past_not_worse\"\n",
    "val_count = df_credit[col].value_counts()\n",
    "barplot_count(val_count, col_name=col)"
   ]
  },
  {
   "cell_type": "markdown",
   "metadata": {},
   "source": [
    "- Here we can see that the group of values bigger than 5 are unusual, so we consider them as outliers.\n",
    "- We can think too that is weird that a borrower could have 5 or more times past due in the range of 30 to 59 days. If so, the bank should be alert for future decisions over that customer"
   ]
  },
  {
   "cell_type": "code",
   "execution_count": null,
   "metadata": {},
   "outputs": [],
   "source": [
    "df_credit = df_credit[df_credit[\"num_times_30-59_days_past_not_worse\"] < 5]"
   ]
  },
  {
   "cell_type": "code",
   "execution_count": null,
   "metadata": {},
   "outputs": [],
   "source": [
    "val_count = df_credit[col].value_counts()\n",
    "barplot_count(val_count, col_name=col)"
   ]
  },
  {
   "cell_type": "markdown",
   "metadata": {},
   "source": [
    "#### debt_ratio"
   ]
  },
  {
   "cell_type": "code",
   "execution_count": null,
   "metadata": {},
   "outputs": [],
   "source": [
    "col = \"debt_ratio\"\n",
    "df_credit = df_credit[df_credit[col] < 2]"
   ]
  },
  {
   "cell_type": "code",
   "execution_count": null,
   "metadata": {},
   "outputs": [],
   "source": [
    "fig, ax = plt.subplots(figsize=(6,6))\n",
    "sns.distplot(df_credit[col], ax=ax, kde=False, rug=False);"
   ]
  },
  {
   "cell_type": "markdown",
   "metadata": {},
   "source": [
    "- While having a debit ratio greater than 1 is not the more common, we will take until 2, what means that the borrower spends the double than his monthly groo income"
   ]
  },
  {
   "cell_type": "markdown",
   "metadata": {},
   "source": [
    "#### number_of_times90_days_late"
   ]
  },
  {
   "cell_type": "code",
   "execution_count": null,
   "metadata": {},
   "outputs": [],
   "source": [
    "col = \"number_of_times90_days_late\"\n",
    "val_count = df_credit[col].value_counts()\n",
    "barplot_count(val_count, col_name=col)"
   ]
  },
  {
   "cell_type": "markdown",
   "metadata": {},
   "source": [
    "- Here we can see that values bigger than 3 are potential outliers.\n",
    "- The same as above, we can think that a borrower who 4 or more times has a 90 days late, should be considered for the bank for future decisions\n",
    "like giving new credit lines or loans"
   ]
  },
  {
   "cell_type": "code",
   "execution_count": null,
   "metadata": {},
   "outputs": [],
   "source": [
    "df_credit = df_credit[df_credit[col] < 3]"
   ]
  },
  {
   "cell_type": "code",
   "execution_count": null,
   "metadata": {},
   "outputs": [],
   "source": [
    "val_count = df_credit[col].value_counts()\n",
    "barplot_count(val_count, col_name=col)"
   ]
  },
  {
   "cell_type": "markdown",
   "metadata": {},
   "source": [
    "#### number_real_estate_loans_or_line"
   ]
  },
  {
   "cell_type": "code",
   "execution_count": null,
   "metadata": {},
   "outputs": [],
   "source": [
    "col = \"number_real_estate_loans_or_lines\"\n",
    "val_count = df_credit[col].value_counts()\n",
    "barplot_count(val_count, col_name=col)"
   ]
  },
  {
   "cell_type": "markdown",
   "metadata": {},
   "source": [
    "- We can see that values bigger than 5 are outliers"
   ]
  },
  {
   "cell_type": "code",
   "execution_count": null,
   "metadata": {},
   "outputs": [],
   "source": [
    "df_credit = df_credit[df_credit[col] < 5]"
   ]
  },
  {
   "cell_type": "code",
   "execution_count": null,
   "metadata": {},
   "outputs": [],
   "source": [
    "val_count = df_credit[col].value_counts()\n",
    "barplot_count(val_count, col_name=col)"
   ]
  },
  {
   "cell_type": "markdown",
   "metadata": {},
   "source": [
    "#### num_times_60-89_days_past_not_worse"
   ]
  },
  {
   "cell_type": "code",
   "execution_count": null,
   "metadata": {},
   "outputs": [],
   "source": [
    "col = \"num_times_60-89_days_past_not_worse\"\n",
    "val_count = df_credit[col].value_counts()\n",
    "barplot_count(val_count, col_name=col)"
   ]
  },
  {
   "cell_type": "markdown",
   "metadata": {},
   "source": [
    "- We can see that values bigger than 3 are outliers\n",
    "- We could think the same as for the number of times a borrower has been 60-89 days past due"
   ]
  },
  {
   "cell_type": "code",
   "execution_count": null,
   "metadata": {},
   "outputs": [],
   "source": [
    "df_credit = df_credit[df_credit[col] < 3]"
   ]
  },
  {
   "cell_type": "code",
   "execution_count": null,
   "metadata": {},
   "outputs": [],
   "source": [
    "val_count = df_credit[col].value_counts()\n",
    "barplot_count(val_count, col_name=col)"
   ]
  },
  {
   "cell_type": "markdown",
   "metadata": {},
   "source": [
    "#### number_of_dependants"
   ]
  },
  {
   "cell_type": "code",
   "execution_count": null,
   "metadata": {},
   "outputs": [],
   "source": [
    "col = \"number_of_dependents\"\n",
    "df_credit[col] = df_credit[col].astype(\"int64\")\n",
    "val_count = df_credit[col].value_counts()\n",
    "barplot_count(val_count, col_name=col)"
   ]
  },
  {
   "cell_type": "markdown",
   "metadata": {},
   "source": [
    "- We can see than values bigger than 6 are outliers"
   ]
  },
  {
   "cell_type": "code",
   "execution_count": null,
   "metadata": {},
   "outputs": [],
   "source": [
    "df_credit = df_credit[df_credit[col] < 6]"
   ]
  },
  {
   "cell_type": "code",
   "execution_count": null,
   "metadata": {},
   "outputs": [],
   "source": [
    "val_count = df_credit[col].value_counts()\n",
    "barplot_count(val_count, col_name=col)"
   ]
  },
  {
   "cell_type": "markdown",
   "metadata": {},
   "source": [
    "#### number_of_open_credit_lines_and_loans"
   ]
  },
  {
   "cell_type": "code",
   "execution_count": null,
   "metadata": {},
   "outputs": [],
   "source": [
    "col = \"number_of_open_credit_lines_and_loans\"\n",
    "val_count = df_credit[col].value_counts()\n",
    "barplot_count(val_count, col_name=col)"
   ]
  },
  {
   "cell_type": "markdown",
   "metadata": {},
   "source": [
    "- We can see that values bigger than 30 are outliers"
   ]
  },
  {
   "cell_type": "code",
   "execution_count": null,
   "metadata": {},
   "outputs": [],
   "source": [
    "df_credit = df_credit[df_credit[col] < 30]"
   ]
  },
  {
   "cell_type": "code",
   "execution_count": null,
   "metadata": {},
   "outputs": [],
   "source": [
    "val_count = df_credit[col].value_counts()\n",
    "barplot_count(val_count, col_name=col)"
   ]
  },
  {
   "cell_type": "markdown",
   "metadata": {},
   "source": [
    "#### age"
   ]
  },
  {
   "cell_type": "code",
   "execution_count": null,
   "metadata": {},
   "outputs": [],
   "source": [
    "col = \"age\"\n",
    "val_count = df_credit[col].value_counts()\n",
    "barplot_count(val_count, col_name=col)"
   ]
  },
  {
   "cell_type": "markdown",
   "metadata": {},
   "source": [
    "- NOTE: One Assumption we can make respect the kind of business like a bank is that legally the credits or loans can be borrowed only for\n",
    "people major than 18\n",
    "- We filter values between 18 and 100"
   ]
  },
  {
   "cell_type": "code",
   "execution_count": null,
   "metadata": {},
   "outputs": [],
   "source": [
    "df_credit = df_credit[(df_credit[col] > 18) & (df_credit[col] < 100)]"
   ]
  },
  {
   "cell_type": "code",
   "execution_count": null,
   "metadata": {},
   "outputs": [],
   "source": [
    "val_count = df_credit[col].value_counts()\n",
    "barplot_count(val_count, col_name=col, fig_size=(20, 5))"
   ]
  },
  {
   "cell_type": "markdown",
   "metadata": {},
   "source": [
    "#### person_90_days_past"
   ]
  },
  {
   "cell_type": "code",
   "execution_count": null,
   "metadata": {},
   "outputs": [],
   "source": [
    "col = \"person_90_days_past\"\n",
    "val_count = df_credit[col].value_counts()\n",
    "barplot_count(val_count, col_name=col)"
   ]
  },
  {
   "cell_type": "markdown",
   "metadata": {},
   "source": [
    "- We can see an unbalance between the two values taken by person_90_days_past."
   ]
  },
  {
   "cell_type": "markdown",
   "metadata": {},
   "source": [
    "#### We have removed outliers analyzing each column. Now let's see the hist plot from all the columns after this preprocessing"
   ]
  },
  {
   "cell_type": "code",
   "execution_count": null,
   "metadata": {},
   "outputs": [],
   "source": [
    "df_credit.hist(figsize=(16, 20), bins=50, xlabelsize=8, ylabelsize=8);"
   ]
  },
  {
   "cell_type": "markdown",
   "metadata": {},
   "source": [
    "#### Correlation between variables"
   ]
  },
  {
   "cell_type": "code",
   "execution_count": null,
   "metadata": {},
   "outputs": [],
   "source": [
    "corr = df_credit.corr() # We already examined SalePrice correlations\n",
    "plt.figure(figsize=(12, 10))\n",
    "\n",
    "sns.heatmap(corr, \n",
    "            cmap='viridis', vmax=1.0, vmin=-1.0, linewidths=0.1,\n",
    "            annot=True, annot_kws={\"size\": 8}, square=True);"
   ]
  },
  {
   "cell_type": "markdown",
   "metadata": {},
   "source": [
    "- With the correlation between 2 variables, we can see their linear relationship.\n",
    "- While the are not variables too correlated, it does exist some pair of variables that have the maximun correlation on the matrix:\n",
    "    - **number_real_estate_loans_or_lines** and **debt_ratio**\n",
    "    - **number_real_estate_loans_or_lines** and **monthly_income**\n",
    "    - **number_real_estate_loans_or_lines** and **number_of_open_credit_lines_and_loans**"
   ]
  },
  {
   "cell_type": "markdown",
   "metadata": {},
   "source": [
    "- Let's save the preprocessed dataset for ML tasks"
   ]
  },
  {
   "cell_type": "code",
   "execution_count": null,
   "metadata": {},
   "outputs": [],
   "source": [
    "df_credit.to_csv(\"../data/preprocessed_credit_data.csv\", index=False)"
   ]
  },
  {
   "cell_type": "markdown",
   "metadata": {},
   "source": [
    "## Conclusions and Insights"
   ]
  },
  {
   "cell_type": "markdown",
   "metadata": {},
   "source": [
    "#### 1. Age - debt_ratio"
   ]
  },
  {
   "cell_type": "code",
   "execution_count": null,
   "metadata": {},
   "outputs": [],
   "source": [
    "age_values = np.sort(df_credit[\"age\"].unique())"
   ]
  },
  {
   "cell_type": "code",
   "execution_count": null,
   "metadata": {},
   "outputs": [],
   "source": [
    "bins = np.append(np.arange(np.min(age_values), np.max(np.max(age_values)), 10), 99)"
   ]
  },
  {
   "cell_type": "code",
   "execution_count": null,
   "metadata": {},
   "outputs": [],
   "source": [
    "data = {\"age_group\": pd.cut(df_credit[\"age\"], bins=bins)}\n",
    "df_age_cut = pd.DataFrame(data=data)"
   ]
  },
  {
   "cell_type": "code",
   "execution_count": null,
   "metadata": {},
   "outputs": [],
   "source": [
    "df_age_cut = df_age_cut.dropna()"
   ]
  },
  {
   "cell_type": "code",
   "execution_count": null,
   "metadata": {},
   "outputs": [],
   "source": [
    "df_age_cut[\"debt_ratio\"] = df_credit[\"debt_ratio\"].loc[df_age_cut.index]"
   ]
  },
  {
   "cell_type": "code",
   "execution_count": null,
   "metadata": {},
   "outputs": [],
   "source": [
    "df_age_cut_mean = df_age_cut.groupby(by=\"age_group\").mean().reset_index()"
   ]
  },
  {
   "cell_type": "code",
   "execution_count": null,
   "metadata": {},
   "outputs": [],
   "source": [
    "df_age_cut_mean[\"age_group\"] = df_age_cut_mean[\"age_group\"].astype(str)"
   ]
  },
  {
   "cell_type": "code",
   "execution_count": null,
   "metadata": {},
   "outputs": [],
   "source": [
    "fig = px.bar(df_age_cut_mean, x='age_group', y='debt_ratio')\n",
    "fig.show()"
   ]
  },
  {
   "cell_type": "markdown",
   "metadata": {},
   "source": [
    "##### - Borrowers between 31 and 71 years old have the higher mean debit ratio, but more precisely, borrowers between 31 and 61 have higher one"
   ]
  },
  {
   "cell_type": "markdown",
   "metadata": {},
   "source": [
    "#### 2. Age - past_90_days_due "
   ]
  },
  {
   "cell_type": "code",
   "execution_count": null,
   "metadata": {},
   "outputs": [],
   "source": [
    "df_age_cut[\"person_90_days_past\"] = df_credit[\"person_90_days_past\"].loc[df_age_cut.index]"
   ]
  },
  {
   "cell_type": "code",
   "execution_count": null,
   "metadata": {},
   "outputs": [],
   "source": [
    "df1 = df_age_cut.groupby('age_group').agg({'person_90_days_past': 'sum', \"age_group\": 'size'})\n",
    "df1.rename(columns={\"age_group\": \"people_count\"}, inplace=True)\n",
    "df1.reset_index(inplace=True)"
   ]
  },
  {
   "cell_type": "code",
   "execution_count": null,
   "metadata": {},
   "outputs": [],
   "source": [
    "df1[\"age_group\"] = df1[\"age_group\"].astype(str)"
   ]
  },
  {
   "cell_type": "code",
   "execution_count": null,
   "metadata": {},
   "outputs": [],
   "source": [
    "df1[\"ratio\"] = df1[\"person_90_days_past\"] / df1[\"people_count\"]"
   ]
  },
  {
   "cell_type": "code",
   "execution_count": null,
   "metadata": {},
   "outputs": [],
   "source": [
    "fig = px.bar(df1, x='age_group', y='ratio')\n",
    "fig.show()"
   ]
  },
  {
   "cell_type": "markdown",
   "metadata": {},
   "source": [
    "##### - People from 21 to 31 tends to have almost a 9% in a late payment of 90 days or more."
   ]
  },
  {
   "cell_type": "markdown",
   "metadata": {},
   "source": [
    "##### - The ratio tends to decrease as people is older until reaching a ratio of 2%"
   ]
  },
  {
   "cell_type": "markdown",
   "metadata": {},
   "source": [
    "#### 3. Age - Monthly Income"
   ]
  },
  {
   "cell_type": "code",
   "execution_count": null,
   "metadata": {},
   "outputs": [],
   "source": [
    "df_age_cut[\"age_group\"] = df_age_cut[\"age_group\"].astype(str)"
   ]
  },
  {
   "cell_type": "code",
   "execution_count": null,
   "metadata": {},
   "outputs": [],
   "source": [
    "df_age_cut[\"montly_income\"] = df_credit[\"monthly_income\"].loc[df_age_cut.index]"
   ]
  },
  {
   "cell_type": "code",
   "execution_count": null,
   "metadata": {},
   "outputs": [],
   "source": [
    "df2 = df_age_cut.groupby('age_group').agg({'montly_income': 'mean'})\n",
    "df2.reset_index(inplace=True)"
   ]
  },
  {
   "cell_type": "code",
   "execution_count": null,
   "metadata": {},
   "outputs": [],
   "source": [
    "fig = px.bar(df2, x='age_group', y='montly_income')\n",
    "fig.show()"
   ]
  },
  {
   "cell_type": "markdown",
   "metadata": {},
   "source": [
    "##### - People between 41 and 71 has the highest mean monthly income"
   ]
  },
  {
   "cell_type": "markdown",
   "metadata": {},
   "source": [
    "#### 4. Age - Number of Open Credit Lines or Loans"
   ]
  },
  {
   "cell_type": "code",
   "execution_count": null,
   "metadata": {},
   "outputs": [],
   "source": [
    "df_age_cut[\"number_of_open_credit_lines_and_loans\"] = df_credit[\"number_of_open_credit_lines_and_loans\"].loc[df_age_cut.index]"
   ]
  },
  {
   "cell_type": "code",
   "execution_count": null,
   "metadata": {},
   "outputs": [],
   "source": [
    "df4 = df_age_cut.groupby('age_group').agg({'number_of_open_credit_lines_and_loans': 'sum'})\n",
    "df4.rename(columns={\"number_of_open_credit_lines_and_loans\": \"total_num_open_credit\"}, inplace=True)\n",
    "df4.reset_index(inplace=True)"
   ]
  },
  {
   "cell_type": "code",
   "execution_count": null,
   "metadata": {},
   "outputs": [],
   "source": [
    "df4[\"open_credit_rate\"] = df4[\"total_num_open_credit\"] / df4[\"total_num_open_credit\"].sum()"
   ]
  },
  {
   "cell_type": "code",
   "execution_count": null,
   "metadata": {},
   "outputs": [],
   "source": [
    "fig = px.bar(df4, x='age_group', y='open_credit_rate')\n",
    "fig.show()"
   ]
  },
  {
   "cell_type": "markdown",
   "metadata": {},
   "source": [
    "##### - The maximun rate of open credit lines or loans is found on people with 41 until 61 years old"
   ]
  },
  {
   "cell_type": "markdown",
   "metadata": {},
   "source": [
    "#### 1. Monthly income - debt_ratio"
   ]
  },
  {
   "cell_type": "code",
   "execution_count": null,
   "metadata": {},
   "outputs": [],
   "source": [
    "quantiles = df_credit[\"monthly_income\"].quantile([0, 0.25, 0.75, 1]).values"
   ]
  },
  {
   "cell_type": "code",
   "execution_count": null,
   "metadata": {},
   "outputs": [],
   "source": [
    "monthly_income_cut = pd.cut(df_credit[\"monthly_income\"], bins=quantiles, labels=[\"low\", \"medium\", \"high\"])\n",
    "df_monthly_income_cut = pd.DataFrame(monthly_income_cut)\n",
    "df_monthly_income_cut.rename(columns={\"monthly_income\": \"level_income\"}, inplace=True)"
   ]
  },
  {
   "cell_type": "code",
   "execution_count": null,
   "metadata": {},
   "outputs": [],
   "source": [
    "df_monthly_income_cut[\"monthly_income\"] = df_credit[\"monthly_income\"].loc[df_monthly_income_cut.index]\n",
    "df_monthly_income_cut[\"debt_ratio\"] = df_credit[\"debt_ratio\"].loc[df_monthly_income_cut.index]"
   ]
  },
  {
   "cell_type": "code",
   "execution_count": null,
   "metadata": {},
   "outputs": [],
   "source": [
    "df5 = df_monthly_income_cut.groupby(by=\"level_income\").mean().reset_index()"
   ]
  },
  {
   "cell_type": "code",
   "execution_count": null,
   "metadata": {},
   "outputs": [],
   "source": [
    "df5.rename(columns={\"debt_ratio\": \"mean_debt_ratio\"}, inplace=True)"
   ]
  },
  {
   "cell_type": "code",
   "execution_count": null,
   "metadata": {},
   "outputs": [],
   "source": [
    "fig = px.bar(df5, x='level_income', y='mean_debt_ratio')\n",
    "fig.show()"
   ]
  },
  {
   "cell_type": "markdown",
   "metadata": {},
   "source": [
    "- ##### Low class people tends to have more debit rate, e.g they have more expenses relative to their gross income, while high class people tends to spend less money relative to their gross income"
   ]
  },
  {
   "cell_type": "markdown",
   "metadata": {},
   "source": [
    "#### 2. Monthly income - num_times_30-59_days_past_not_worse"
   ]
  },
  {
   "cell_type": "code",
   "execution_count": null,
   "metadata": {},
   "outputs": [],
   "source": [
    "df_monthly_income_cut[\"num_times_30-59_days_past_not_worse\"] = df_credit[\"num_times_30-59_days_past_not_worse\"].loc[df_monthly_income_cut.index]"
   ]
  },
  {
   "cell_type": "code",
   "execution_count": null,
   "metadata": {},
   "outputs": [],
   "source": [
    "df6 = df_monthly_income_cut.groupby('level_income').agg({'num_times_30-59_days_past_not_worse': 'sum', \"level_income\": 'size'})\n",
    "df6.rename(columns={\"level_income\": \"people_count\"}, inplace=True)\n",
    "df6.reset_index(inplace=True)"
   ]
  },
  {
   "cell_type": "code",
   "execution_count": null,
   "metadata": {},
   "outputs": [],
   "source": [
    "df6[\"ratio\"] = df6[\"num_times_30-59_days_past_not_worse\"] / df6[\"people_count\"]"
   ]
  },
  {
   "cell_type": "code",
   "execution_count": null,
   "metadata": {},
   "outputs": [],
   "source": [
    "fig = px.bar(df6, x='level_income', y='ratio')\n",
    "fig.show()"
   ]
  },
  {
   "cell_type": "markdown",
   "metadata": {},
   "source": [
    "##### - Low, medium and high class people have had 30-59 days past due but no worse in the last 2 years approximately the 20% of the times"
   ]
  },
  {
   "cell_type": "markdown",
   "metadata": {},
   "source": [
    "#### - More Possible analysis:\n",
    "    - Based on number of dependents:\n",
    "        - Check the debit ratio for each group of borrowers, maybe the higher the number of dependents, the higher debit ratio\n",
    "        - Maybe the higher the number of dependents, the higher the number of credit or loans but at the same time the higher the number of days past due    \n",
    "    "
   ]
  },
  {
   "cell_type": "markdown",
   "metadata": {},
   "source": [
    "## Feature extraction\n",
    "- Some features that could describe to borrowers are:\n",
    "    - age\n",
    "    - debt_ratio\n",
    "    - monthly_income\n",
    "    - number_of_open_credit_lines_or_loans\n",
    "    - number of dependents\n",
    "- Some transformed features (seen on previous insights):\n",
    "    - age_group\n",
    "    - ratio (age - past 90 days past due)\n",
    "    - open_credit_rate\n",
    "    - ratio (monthly income - number of times 30-59 days past due)\n",
    "    \n",
    "Note: The features mentioned above are principally the features used to get some insights."
   ]
  },
  {
   "cell_type": "markdown",
   "metadata": {},
   "source": [
    "## Machine Learning Approaches"
   ]
  },
  {
   "cell_type": "markdown",
   "metadata": {},
   "source": [
    "- Borrower is 90 days past due deliquency or worse, taking as principal features:\n",
    "    - Number of times borrower has been 60-89 days past due but no worse in the last 2 years\n",
    "    - Number of times borrower has been 30-59 days past due but no worse in the last 2 years\n",
    "    - Monthly Income\n",
    "    - Debit ratio\n",
    "- Note: Having this relevant information, if an existing borrower from the bank would like to ask for a new credit, based on his information,\n",
    "like, the borrower has open credits, the monthly income, the debt ratio and most of all, if ever had a past due, the bank could not grant a credit.\n",
    "In summary, tge bank can decide if grant or not a new credit to an existing borrower."
   ]
  },
  {
   "cell_type": "markdown",
   "metadata": {},
   "source": [
    "## Identify features and new attributes / tables that could be relevant or needed for better analysis\n"
   ]
  },
  {
   "cell_type": "markdown",
   "metadata": {},
   "source": [
    "- New features:\n",
    "    - Gender feature\n",
    "    - Temporal features:\n",
    "        - Credit/Loans opening datetime\n",
    "        - Credit/Loans closing datetime\n",
    "    - Investments features\n",
    "        - Assets purchase\n",
    "        - Assets selling\n",
    "    - Demographic features\n",
    "        - GPS coordinates of the borrower's city\n",
    "        - City\n",
    "        - State\n",
    "        - Country\n",
    "    - Credit/Loans amount"
   ]
  },
  {
   "cell_type": "markdown",
   "metadata": {},
   "source": [
    "## Use cases"
   ]
  },
  {
   "cell_type": "markdown",
   "metadata": {},
   "source": [
    "- Personalized Marketing:\n",
    "    - Build a ML model to predict the probability of a customer's response to a promotion or an offer\n",
    "- Customer Segmentation:\n",
    "    - Build a loan/credits/products recommendation system\n",
    "- Risk Analysis:\n",
    "    - Having information about number of dependents for each borrower and the behavior, analize the risk of grant a new credit or loan to determine\n",
    "    if this one will meet the credit term.\n",
    "    - Build a model to predict the probability of a borrower to meet the credit term\n",
    "    "
   ]
  },
  {
   "cell_type": "code",
   "execution_count": null,
   "metadata": {},
   "outputs": [],
   "source": []
  }
 ],
 "metadata": {
  "kernelspec": {
   "display_name": "Python 3",
   "language": "python",
   "name": "python3"
  },
  "language_info": {
   "codemirror_mode": {
    "name": "ipython",
    "version": 3
   },
   "file_extension": ".py",
   "mimetype": "text/x-python",
   "name": "python",
   "nbconvert_exporter": "python",
   "pygments_lexer": "ipython3",
   "version": "3.7.7"
  }
 },
 "nbformat": 4,
 "nbformat_minor": 4
}
